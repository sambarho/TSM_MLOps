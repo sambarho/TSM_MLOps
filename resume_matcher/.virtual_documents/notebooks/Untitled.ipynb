import sys
!{sys.executable} -m pip install selenium





from selenium import webdriver
from selenium.webdriver.common.by import By
from selenium.webdriver.chrome.options import Options
import time

# Setup
options = Options()
options.add_argument("--headless")  # Run in background
driver = webdriver.Chrome(options=options)

# URL for "Data Science" jobs in the US
search_term = "data science"
url = f"https://www.linkedin.com/jobs/search/?keywords={search_term.replace(' ', '%20')}"

# Visit the page
driver.get(url)
time.sleep(3)

# Collect job cards
job_cards = driver.find_elements(By.CLASS_NAME, 'job-card-container__link')
print(f"Found {len(job_cards)} job links")

job_descriptions = []

# Loop through a few jobs
for i in range(min(3, len(job_cards))):
    try:
        job_cards[i].click()
        time.sleep(2)
        description = driver.find_element(By.CLASS_NAME, "jobs-description__container").text
        job_descriptions.append(description)
    except Exception as e:
        print(f"Error at job {i}: {e}")
        continue

# Close driver
driver.quit()

# Output results
for i, desc in enumerate(job_descriptions, 1):
    print(f"\n--- Job {i} Description ---\n{desc[:500]}...\n")

