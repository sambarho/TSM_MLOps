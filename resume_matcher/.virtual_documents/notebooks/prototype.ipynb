


from huggingface_hub import snapshot_download

# Download the model and store it in the models directory
snapshot_download(
    repo_id="sentence-transformers/all-MiniLM-L6-v2",
    local_dir="models/all-MiniLM-L6-v2",
    local_dir_use_symlinks=False  # This ensures full files are copied, not symlinked
)










import pdfplumber

def extract_text_from_pdf(pdf_path):
    with pdfplumber.open(pdf_path) as pdf:
        return "\n".join([page.extract_text() or "" for page in pdf.pages])

# Load your own resume file here
resume_path = "../data/resumes/sample_resume.pdf"
resume_text = extract_text_from_pdf(resume_path)

print(resume_text[:10000])  # Preview the first 1000 characters



job_description = """Minimum qualifications:

Bachelor’s degree or equivalent practical experience.
1 year of experience with software development in one or more programming languages (e.g., Python, C, C++, Java, JavaScript).
1 year of experience with data structures or algorithms.
1 year of experience with full stack development, across back-end such as Java, Python, GO, or C++ codebases, and front-end experience including JavaScript or TypeScript, HTML, CSS or equivalent.

Preferred qualifications:

Experience in Mobile App Development, TypeScript.
Ability to learn new languages and toolkits.

About The Job

Google's software engineers develop the next-generation technologies that change how billions of users connect, explore, and interact with information and one another. Our products need to handle information at massive scale, and extend well beyond web search. We're looking for engineers who bring fresh ideas from all areas, including information retrieval, distributed computing, large-scale system design, networking and data storage, security, artificial intelligence, natural language processing, UI design and mobile; the list goes on and is growing every day. As a software engineer, you will work on a specific project critical to Google’s needs with opportunities to switch teams and projects as you and our fast-paced business grow and evolve. We need our engineers to be versatile, display leadership qualities and be enthusiastic to take on new problems across the full-stack as we continue to push technology forward.

At YouTube, we believe that everyone deserves to have a voice, and that the world is a better place when we listen, share, and build community through our stories. We work together to give everyone the power to share their story, explore what they love, and connect with one another in the process. Working at the intersection of cutting-edge technology and boundless creativity, we move at the speed of culture with a shared goal to show people the world. We explore new ideas, solve real problems, and have fun — and we do it all together.

Responsibilities

Write product or system development code.
Work with PMs and UXDs, design, review, implement and launch changes to our products. Drive for pragmatic, robust solutions and product excellence.
Help, maintain and improve our infrastructure and platform and, after an onboarding phase, participate in our on-call rotation.

"""


import re

def clean_text(text):
    # lowercase the text
    text = text.lower()
    #remove special characters 
    text = re.sub(r"[\n•\-]+", " ", text)
    # Remove extra spaces
    text = re.sub(r"\s+", " ", text).strip()
    return text



resume_clean = clean_text(resume_text)
job_clean = clean_text(job_description)



from sentence_transformers.util import cos_sim

# encode texts to get their embeddings
embeddings = model.encode([resume_text, job_description], convert_to_tensor=True)

# cosine similarity score
similarity = cos_sim(embeddings[0], embeddings[1]).item()
print(f"Resume Fit Score: {similarity * 100:.2f}/100")



# basic keyword overlap
resume_words = set(clean_text(resume_text).split())
job_words = set(clean_text(job_description).split())
overlap = len(resume_words & job_words) / len(job_words)
print(f"Keyword Overlap: {overlap:.2%}")



from transformers import pipeline

summarizer = pipeline("summarization", model="sshleifer/distilbart-cnn-12-6")

summary_job_desc = summarizer("This is a job description - summarizing in order to fit potential resumes:" + job_description, max_length=450, min_length=300, do_sample=False)[0]['summary_text']
print("🔍 Summarized Job Description:\n", summary_job_desc)

summary_resume_text = summarizer("This is a resume - summarizing in order to fit potential job descriptions:" + resume_text, max_length=450, min_length=300, do_sample=False)[0]['summary_text']
print("🔍 Summarized Resume:\n", summary_resume_text)



embeddings = model.encode([summary_resume_text, summary_job_desc], convert_to_tensor=True)

# cosine similarity score
similarity = cos_sim(embeddings[0], embeddings[1]).item()
print(f"Summarized Resume Fit Score: {similarity * 100:.2f}/100")


model2 = SentenceTransformer("sentence-transformers/msmarco-distilbert-base-v4") #maybe more task specific
embeddings2 = model2.encode([resume_clean, job_clean], convert_to_tensor=True)
similarity2 = cos_sim(embeddings2[0], embeddings2[1]).item()
print(f"Resume Fit Score (MS MARCO): {similarity2 * 100:.2f}/100")


print(f"Resume Fit Score (MS MARCO): {similarity2 * 100:.2f}/100")
