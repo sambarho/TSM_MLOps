{
 "cells": [
  {
   "cell_type": "code",
   "execution_count": 2,
   "id": "4f83bb28",
   "metadata": {},
   "outputs": [],
   "source": [
    "import normalizers"
   ]
  },
  {
   "cell_type": "code",
   "execution_count": 12,
   "id": "de12cc95",
   "metadata": {},
   "outputs": [
    {
     "name": "stdout",
     "output_type": "stream",
     "text": [
      "['meets deadlines']\n",
      "['understands client needs', 'client focus']\n"
     ]
    }
   ],
   "source": [
    "result = normalizers.normalize_skills(['meets deadlines'])\n",
    "print(result)\n",
    "\n",
    "result = normalizers.normalize_skills(['understands client needs', 'client focus'])\n",
    "print(result)"
   ]
  },
  {
   "cell_type": "code",
   "execution_count": 4,
   "id": "f341c5f7",
   "metadata": {},
   "outputs": [
    {
     "name": "stdout",
     "output_type": "stream",
     "text": [
      "spaceship cleaner in command\n"
     ]
    }
   ],
   "source": [
    "result = normalizers.normalize_title('Spaceship Cleaner in Command (120 %)')\n",
    "print(result)"
   ]
  },
  {
   "cell_type": "code",
   "execution_count": null,
   "id": "6c888e1e",
   "metadata": {},
   "outputs": [],
   "source": []
  }
 ],
 "metadata": {
  "kernelspec": {
   "display_name": "resume-matcher",
   "language": "python",
   "name": "python3"
  },
  "language_info": {
   "codemirror_mode": {
    "name": "ipython",
    "version": 3
   },
   "file_extension": ".py",
   "mimetype": "text/x-python",
   "name": "python",
   "nbconvert_exporter": "python",
   "pygments_lexer": "ipython3",
   "version": "3.11.11"
  }
 },
 "nbformat": 4,
 "nbformat_minor": 5
}
