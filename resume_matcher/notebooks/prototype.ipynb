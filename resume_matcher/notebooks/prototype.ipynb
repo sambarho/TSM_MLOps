{
 "cells": [
  {
   "cell_type": "markdown",
   "id": "7fed0821",
   "metadata": {},
   "source": [
    "Downloading the sentence comparison model from huggingface (only done once by Petar - it will be saved and accessable through Git from now on)"
   ]
  },
  {
   "cell_type": "code",
   "execution_count": 1,
   "id": "4f26069b",
   "metadata": {},
   "outputs": [
    {
     "name": "stderr",
     "output_type": "stream",
     "text": [
      "c:\\Users\\mloe\\.conda\\envs\\resume-matcher\\Lib\\site-packages\\tqdm\\auto.py:21: TqdmWarning: IProgress not found. Please update jupyter and ipywidgets. See https://ipywidgets.readthedocs.io/en/stable/user_install.html\n",
      "  from .autonotebook import tqdm as notebook_tqdm\n",
      "c:\\Users\\mloe\\.conda\\envs\\resume-matcher\\Lib\\site-packages\\huggingface_hub\\file_download.py:933: UserWarning: `local_dir_use_symlinks` parameter is deprecated and will be ignored. The process to download files to a local folder has been updated and do not rely on symlinks anymore. You only need to pass a destination folder as`local_dir`.\n",
      "For more details, check out https://huggingface.co/docs/huggingface_hub/main/en/guides/download#download-files-to-local-folder.\n",
      "  warnings.warn(\n",
      "Fetching 30 files: 100%|██████████| 30/30 [00:00<00:00, 707.95it/s]\n"
     ]
    },
    {
     "data": {
      "text/plain": [
       "'C:\\\\Repos\\\\TSM_MLOps\\\\resume_matcher\\\\notebooks\\\\models\\\\all-MiniLM-L6-v2'"
      ]
     },
     "execution_count": 1,
     "metadata": {},
     "output_type": "execute_result"
    }
   ],
   "source": [
    "from huggingface_hub import snapshot_download\n",
    "\n",
    "# Download the model and store it in the models directory\n",
    "snapshot_download(\n",
    "    repo_id=\"sentence-transformers/all-MiniLM-L6-v2\",\n",
    "    local_dir=\"models/all-MiniLM-L6-v2\",\n",
    "    local_dir_use_symlinks=False  # This ensures full files are copied, not symlinked\n",
    ")\n"
   ]
  },
  {
   "cell_type": "markdown",
   "id": "96330fd5",
   "metadata": {},
   "source": [
    "Load the model to use it - you run this cell before you want to use the model"
   ]
  },
  {
   "cell_type": "code",
   "execution_count": 2,
   "id": "cc515a9e",
   "metadata": {},
   "outputs": [],
   "source": [
    "from sentence_transformers import SentenceTransformer\n",
    "\n",
    "model = SentenceTransformer(\"../models/all-MiniLM-L6-v2\")\n"
   ]
  },
  {
   "cell_type": "code",
   "execution_count": 3,
   "id": "3748b690",
   "metadata": {},
   "outputs": [
    {
     "name": "stderr",
     "output_type": "stream",
     "text": [
      "CropBox missing from /Page, defaulting to MediaBox\n",
      "CropBox missing from /Page, defaulting to MediaBox\n"
     ]
    },
    {
     "name": "stdout",
     "output_type": "stream",
     "text": [
      "CYNTHIA DWAYNE\n",
      "Software Developer\n",
      "CONTACT WORK EXPERIENCE\n",
      "cynthia@beamjobs.com Software Developer\n",
      "(123) 456-7890\n",
      "QuickBooks\n",
      "Brooklyn, NY\n",
      "January 2017 - current / New York, NY\n",
      "LinkedIn\n",
      "· Worked on the payments team to save time and improve cash\n",
      "Github\n",
      "flow for over 50,000 through the development of modern,\n",
      "responsive customer experiences\n",
      "· Led the migration from AWS to GCP for the team to reduce\n",
      "CAREER OBJECTIVE\n",
      "cloud costs by $260,000 per year\n",
      "Throughout my 7-year-plus · Worked closely with the product team to re-configure the\n",
      "career as a software developer, I processing of invoices, saving customers over 125,000 manual\n",
      "have focused on developing hours of work per month\n",
      "scalable and well-documented · Mentored 3 junior front-end developers on the team on React,\n",
      "code. I enjoy working\n",
      "and documented best practices within the organization\n",
      "collaboratively but can also run\n",
      "with projects independently.\n",
      "Front-End Developer\n",
      "Excited about the prospect of\n",
      "joining a product-driven AMR\n",
      "company like Acme Corp.\n",
      "January 2014 - December 2016 / New York, NY\n",
      "· Contributed to the in-house UI library to create reusable\n",
      "components that saved 125+ hours of development per month\n",
      "EDUCATION\n",
      "· Created a web app MVP for a store delivery management\n",
      "Bachelor of Science platform with 200+ business customers to create, manage, and\n",
      "Computer Science monitor deliveries using React and Redux\n",
      "· Added features to meditation app with 5,000+ monthly users,\n",
      "University of Delaware\n",
      "enabling audio and video uploads using React and Redux\n",
      "August 2008 - May 2012\n",
      "· Improved customer conversion rate by 17% through A/B\n",
      "Newark, DE\n",
      "testing of different components and combinations,\n",
      "representing $500,000+ in incremental annual revenue\n",
      "SKILLS\n",
      "Help Desk Analyst\n",
      "Python (Django)\n",
      "Kelly\n",
      "SQL (PostgreSQL, MySQL)\n",
      "June 2012 - January 2014 / New York, NY\n",
      "Cloud (GCP, AWS)\n",
      "· Diagnosed technical issues for 30+ clients per day by phone,\n",
      "JavaScript (ES6, React, Redux,\n",
      "email, and chat, solving issues within 15 minutes on average\n",
      "Node.js)\n",
      "· Successfully reached solutions for 92% of computer errors, and\n",
      "Typescript\n",
      "escalated more complex tickets to higher tiers to assist clients\n",
      "HTML/ CSS\n",
      "as quickly as possible\n",
      "CI/CD\n",
      "· Created user accounts for 50+ clients per week, and assisted\n",
      "them with setting up and customizing their accounts\n",
      "· Created and updated documentation as needed concerning\n",
      "network, software, and hardware problems\n"
     ]
    }
   ],
   "source": [
    "import pdfplumber\n",
    "\n",
    "def extract_text_from_pdf(pdf_path):\n",
    "    with pdfplumber.open(pdf_path) as pdf:\n",
    "        return \"\\n\".join([page.extract_text() or \"\" for page in pdf.pages])\n",
    "\n",
    "# Load your own resume file here\n",
    "resume_path = \"../data/resumes/sample_resume.pdf\"\n",
    "resume_text = extract_text_from_pdf(resume_path)\n",
    "\n",
    "print(resume_text[:10000])  # Preview the first 1000 characters\n"
   ]
  },
  {
   "cell_type": "code",
   "execution_count": 4,
   "id": "cdc9b3d9",
   "metadata": {},
   "outputs": [],
   "source": [
    "job_description = \"\"\"Construction is a multi-trillion-dollar industry used by every human across the planet. It needs your help: we need to invent new software systems so construction becomes as efficient, quick, automated and green as possible. The team at Benetics (60+ years of engineering experience, 2 founding engineers from Google, and a CEO with a successful exit in tech.) is laser-focused on a vision of understanding each building’s DNA: How are people on-site communicating? How was the building constructed compared to what the plan said? How can we automate planning, implementation, logistics, and maintenance into a seamless process flow?\n",
    "Join the fastest-moving company in this space.\n",
    "\n",
    "Tasks\n",
    "\n",
    "Build reliable, performant, and scalable software solutions.\n",
    "Follow data-driven experimentation to iterate on features.\n",
    "Bring machine learning models for construction process flows.\n",
    "Work closely and collaborate with engineers, product managers, designers, and other team members.\n",
    "Share expertise, hold tech talks, contribute to design meetings, and enrich our engineering culture.\n",
    "Tackle greenfield algorithmic, scaling, and performance challenges.\n",
    "Code using primarily TypeScript and Python\n",
    "Requirements\n",
    "\n",
    "\\[required] 2+ years of software engineering experience\n",
    "\\[required] Master’s or bachelor’s degree (or equivalent) in computer science, mathematics, or related fields (ETH Zurich or equivalent)\n",
    "Your A-Game: top-notch software engineering, a curious mind looking to learn constantly, and an empathic style that wants to teach others.\n",
    "Benefits\n",
    "\n",
    "Experienced and powerful team; a start-up without the chaos.\n",
    "Quick pacing while paying attention to all the details: we build a delightful, bullet-proof product.\n",
    "Performance-driven compensation, including equity.\n",
    "A place to learn and develop yourself.\n",
    "A once-in-a-generation chance to reshape an industry of crucial importance for humanity and the planet.\n",
    "We are hiring the best people around the world and offer visa sponsorship.\n",
    "\n",
    "\"\"\""
   ]
  },
  {
   "cell_type": "code",
   "execution_count": 5,
   "id": "e4945c90",
   "metadata": {},
   "outputs": [],
   "source": [
    "import re\n",
    "\n",
    "def clean_text(text):\n",
    "    # lowercase the text\n",
    "    text = text.lower()\n",
    "    #remove special characters \n",
    "    text = re.sub(r\"[\\n•\\-]+\", \" \", text)\n",
    "    # Remove extra spaces\n",
    "    text = re.sub(r\"\\s+\", \" \", text).strip()\n",
    "    return text\n"
   ]
  },
  {
   "cell_type": "code",
   "execution_count": 6,
   "id": "9eeef567",
   "metadata": {},
   "outputs": [],
   "source": [
    "resume_clean = clean_text(resume_text)\n",
    "job_clean = clean_text(job_description)\n"
   ]
  },
  {
   "cell_type": "code",
   "execution_count": 7,
   "id": "603c34dd",
   "metadata": {},
   "outputs": [
    {
     "name": "stdout",
     "output_type": "stream",
     "text": [
      "Resume Fit Score: 47.22/100\n"
     ]
    }
   ],
   "source": [
    "from sentence_transformers.util import cos_sim\n",
    "\n",
    "# encode texts to get their embeddings\n",
    "embeddings = model.encode([resume_text, job_description], convert_to_tensor=True)\n",
    "\n",
    "# cosine similarity score\n",
    "similarity = cos_sim(embeddings[0], embeddings[1]).item()\n",
    "print(f\"Resume Fit Score: {similarity * 100:.2f}/100\")\n"
   ]
  },
  {
   "cell_type": "code",
   "execution_count": 8,
   "id": "da57d3c0",
   "metadata": {},
   "outputs": [
    {
     "name": "stdout",
     "output_type": "stream",
     "text": [
      "Keyword Overlap: 14.76%\n"
     ]
    }
   ],
   "source": [
    "# basic keyword overlap\n",
    "resume_words = set(clean_text(resume_text).split())\n",
    "job_words = set(clean_text(job_description).split())\n",
    "overlap = len(resume_words & job_words) / len(job_words)\n",
    "print(f\"Keyword Overlap: {overlap:.2%}\")\n"
   ]
  },
  {
   "cell_type": "code",
   "execution_count": 9,
   "id": "0fc5bcc5",
   "metadata": {},
   "outputs": [
    {
     "name": "stderr",
     "output_type": "stream",
     "text": [
      "Device set to use cpu\n",
      "Your max_length is set to 450, but your input_length is only 432. Since this is a summarization task, where outputs shorter than the input are typically wanted, you might consider decreasing max_length manually, e.g. summarizer('...', max_length=216)\n"
     ]
    },
    {
     "name": "stdout",
     "output_type": "stream",
     "text": [
      "Summarized Job Description:\n",
      "  This is a job description - summarizing in order to fit potential resumes . The team at Benetics (60+ years of engineering experience, 2 founding engineers from Google, and a CEO with a successful exit in tech.) is laser-focused on a vision of understanding each building’s DNA . How are people on-site communicating? How was the building constructed compared to what the plan said? How can we automate planning, implementation, logistics, and maintenance into a seamless process flow? We need to invent new software systems so construction becomes as efficient, quick, automated and green as possible . The company is hiring the best people around the world and offer visa sponsorship. It is a once-in-a-generation chance to reshape an industry of crucial importance for humanity and the planet. It's a place to learn and develop yourself. We build a delightful, bullet-proof product. The job description is available for $100,000 to $300,000 per year. We are hiring for $10,000-per-year-to-date. The company has a strong, experienced and fast-moving team. We offer visas for $1,800-per year-a.commissioned compensation. We have a strong and sustainable environment. We want to work with our best people. We’re looking to use our best. We need a strong culture. We're looking to create a strong environment. It’ll be available to build a strong\n",
      "Summarized Resume:\n",
      "  This is a resume - summarizing in order to fit potential job descriptions . Worked on the payments team to save time and improve cash . Mentored 3 junior front-end developers on the team on React, code . Led migration from AWS to GCP for the team to reduce cloud costs by $260,000 per year . Enjoyed working with the product team to re-configure the company's product . Contributed to the in-house UI library to create reusable UI library that saved 125+ hours of development per month . Created user accounts for 50+ clients per week, and assisted with setting up and customizing their accounts . Diagnosed technical issues for 30+ clients by phone, and solved issues within 15 minutes on average by phone. Diagnosed . Issues for 30 more clients per day by phone by phone,. Diagnosed Technical issues for . phone, but solved issues for 92% of computer errors. Successfully reached solutions for 92%. Successfully found solutions for 90% of . computer errors, and . solved issues in 15 minutes . The company's helpdesk (Django) and . updated documentation as needed concerning network, software, hardware, and software, and hardware problems . I'm excited about the prospect of joining a product-driven AMR company like Acme Corp. The company’s expertise. The Company’S helpdeskerkerkerkert ‘Criskerker’ and ‘Kerkerkerner’\n"
     ]
    }
   ],
   "source": [
    "from transformers import pipeline\n",
    "\n",
    "summarizer = pipeline(\"summarization\", model=\"sshleifer/distilbart-cnn-12-6\")\n",
    "\n",
    "summary_job_desc = summarizer(\"This is a job description - summarizing in order to fit potential resumes:\" + job_description, max_length=450, min_length=300, do_sample=False)[0]['summary_text']\n",
    "print(\"Summarized Job Description:\\n\", summary_job_desc)\n",
    "\n",
    "summary_resume_text = summarizer(\"This is a resume - summarizing in order to fit potential job descriptions:\" + resume_text, max_length=450, min_length=300, do_sample=False)[0]['summary_text']\n",
    "print(\"Summarized Resume:\\n\", summary_resume_text)\n"
   ]
  },
  {
   "cell_type": "code",
   "execution_count": 10,
   "id": "db367c00",
   "metadata": {},
   "outputs": [
    {
     "name": "stdout",
     "output_type": "stream",
     "text": [
      "Summarized Resume Fit Score: 49.18/100\n"
     ]
    }
   ],
   "source": [
    "embeddings = model.encode([summary_resume_text, summary_job_desc], convert_to_tensor=True)\n",
    "\n",
    "# cosine similarity score\n",
    "similarity = cos_sim(embeddings[0], embeddings[1]).item()\n",
    "print(f\"Summarized Resume Fit Score: {similarity * 100:.2f}/100\")"
   ]
  },
  {
   "cell_type": "code",
   "execution_count": 11,
   "id": "be04143d",
   "metadata": {},
   "outputs": [
    {
     "name": "stdout",
     "output_type": "stream",
     "text": [
      "Resume Fit Score (MS MARCO): 28.49/100\n"
     ]
    }
   ],
   "source": [
    "model2 = SentenceTransformer(\"sentence-transformers/msmarco-distilbert-base-v4\") #maybe more task specific\n",
    "embeddings2 = model2.encode([resume_clean, job_clean], convert_to_tensor=True)\n",
    "similarity2 = cos_sim(embeddings2[0], embeddings2[1]).item()\n",
    "print(f\"Resume Fit Score (MS MARCO): {similarity2 * 100:.2f}/100\")"
   ]
  },
  {
   "cell_type": "code",
   "execution_count": 12,
   "id": "36880ef8",
   "metadata": {},
   "outputs": [
    {
     "name": "stdout",
     "output_type": "stream",
     "text": [
      "Resume Fit Score (MS MARCO): 28.49/100\n"
     ]
    }
   ],
   "source": [
    "print(f\"Resume Fit Score (MS MARCO): {similarity2 * 100:.2f}/100\")"
   ]
  },
  {
   "cell_type": "markdown",
   "id": "daba68c2",
   "metadata": {},
   "source": [
    "Another approach: creating objects out of both texts and comparing them \"manually\" using ollama. does not work yet"
   ]
  },
  {
   "cell_type": "code",
   "execution_count": 13,
   "id": "78cec435",
   "metadata": {},
   "outputs": [
    {
     "name": "stdout",
     "output_type": "stream",
     "text": [
      "Requirement already satisfied: ollama in c:\\users\\mloe\\.conda\\envs\\resume-matcher\\lib\\site-packages (0.4.8)\n",
      "Requirement already satisfied: httpx<0.29,>=0.27 in c:\\users\\mloe\\.conda\\envs\\resume-matcher\\lib\\site-packages (from ollama) (0.28.1)\n",
      "Requirement already satisfied: pydantic<3.0.0,>=2.9.0 in c:\\users\\mloe\\.conda\\envs\\resume-matcher\\lib\\site-packages (from ollama) (2.11.3)\n",
      "Requirement already satisfied: anyio in c:\\users\\mloe\\.conda\\envs\\resume-matcher\\lib\\site-packages (from httpx<0.29,>=0.27->ollama) (4.9.0)\n",
      "Requirement already satisfied: certifi in c:\\users\\mloe\\.conda\\envs\\resume-matcher\\lib\\site-packages (from httpx<0.29,>=0.27->ollama) (2025.1.31)\n",
      "Requirement already satisfied: httpcore==1.* in c:\\users\\mloe\\.conda\\envs\\resume-matcher\\lib\\site-packages (from httpx<0.29,>=0.27->ollama) (1.0.8)\n",
      "Requirement already satisfied: idna in c:\\users\\mloe\\.conda\\envs\\resume-matcher\\lib\\site-packages (from httpx<0.29,>=0.27->ollama) (3.10)\n",
      "Requirement already satisfied: h11<0.15,>=0.13 in c:\\users\\mloe\\.conda\\envs\\resume-matcher\\lib\\site-packages (from httpcore==1.*->httpx<0.29,>=0.27->ollama) (0.14.0)\n",
      "Requirement already satisfied: annotated-types>=0.6.0 in c:\\users\\mloe\\.conda\\envs\\resume-matcher\\lib\\site-packages (from pydantic<3.0.0,>=2.9.0->ollama) (0.7.0)\n",
      "Requirement already satisfied: pydantic-core==2.33.1 in c:\\users\\mloe\\.conda\\envs\\resume-matcher\\lib\\site-packages (from pydantic<3.0.0,>=2.9.0->ollama) (2.33.1)\n",
      "Requirement already satisfied: typing-extensions>=4.12.2 in c:\\users\\mloe\\.conda\\envs\\resume-matcher\\lib\\site-packages (from pydantic<3.0.0,>=2.9.0->ollama) (4.13.2)\n",
      "Requirement already satisfied: typing-inspection>=0.4.0 in c:\\users\\mloe\\.conda\\envs\\resume-matcher\\lib\\site-packages (from pydantic<3.0.0,>=2.9.0->ollama) (0.4.0)\n",
      "Requirement already satisfied: sniffio>=1.1 in c:\\users\\mloe\\.conda\\envs\\resume-matcher\\lib\\site-packages (from anyio->httpx<0.29,>=0.27->ollama) (1.3.1)\n",
      "Note: you may need to restart the kernel to use updated packages.\n"
     ]
    }
   ],
   "source": [
    "%pip install ollama"
   ]
  },
  {
   "cell_type": "code",
   "execution_count": 18,
   "id": "11b5d10a",
   "metadata": {},
   "outputs": [
    {
     "data": {
      "text/plain": [
       "ProgressResponse(status='success', completed=None, total=None, digest=None)"
      ]
     },
     "execution_count": 18,
     "metadata": {},
     "output_type": "execute_result"
    }
   ],
   "source": [
    "import ollama\n",
    "ollama.pull('tinyllama')"
   ]
  },
  {
   "cell_type": "code",
   "execution_count": 19,
   "id": "79438b5d",
   "metadata": {},
   "outputs": [
    {
     "name": "stdout",
     "output_type": "stream",
     "text": [
      "1. Sales Experience: As an experienced sales manager with over six years of experience in the retail industry, you have demonstrated success in managing a team of professionals responsible for achieving sales targets and generating revenue.\n",
      "\n",
      "2. Project Management Skills: As a project manager, you have extensive experience in leading complex projects across various industries. You are skilled in managing budgets, stakeholders, timelines, and deliverables.\n",
      "\n",
      "3. Time Management and Prioritization: As a time-management expert with more than 10 years of experience, you excel at prioritizing tasks and ensuring that deadlines are met. You have also been trained in effective time management strategies to manage workloads effectively.\n",
      "\n",
      "4. Leadership Skills: As an experienced leader in the sales department, you possess leadership skills that enable you to motivate, inspire and train your team. You have led successful sales campaigns, developed strong relationships with clients and built a dedicated team of sales professionals.\n",
      "\n",
      "5. Analytical and Problem Solving Skills: With years of experience analyzing data and identifying opportunities for growth, you possess analytical and problem-solving skills that help to identify and address market trends or challenges. You have also developed problem-solving skills in dealing with difficult customers or clients.\n",
      "\n",
      "6. Creative Thinking: As a creative thinker with a diverse range of experience, you possess the ability to come up with innovative solutions to complex problems. Your experience in sales has allowed you to identify market trends and generate new ideas that can increase revenue for the company.\n"
     ]
    }
   ],
   "source": [
    "from ollama import Client\n",
    "client = Client()\n",
    "response = client.chat(model='tinyllama', messages=[\n",
    "    {\"role\": \"user\", \"content\": \"Extract skills and experience from this resume: <your text>\"}\n",
    "])\n",
    "print(response['message']['content'])\n"
   ]
  },
  {
   "cell_type": "code",
   "execution_count": 20,
   "id": "c8482f91",
   "metadata": {},
   "outputs": [],
   "source": [
    "def extract_resume_info(resume_text: str, model: str = 'mistral') -> dict:\n",
    "    from ollama import Client\n",
    "    client = Client()\n",
    "\n",
    "    prompt = f\"\"\"\n",
    "Extract the following fields from the resume below and return them as a valid JSON object:\n",
    "\n",
    "- name\n",
    "- years_of_experience\n",
    "- skills\n",
    "- past_job_titles\n",
    "- education\n",
    "- soft_skills\n",
    "\n",
    "Example output:\n",
    "{{\n",
    "  \"name\": \"Emma Liu\",\n",
    "  \"years_of_experience\": 3,\n",
    "  \"skills\": [\"Go\", \"Kubernetes\", \"PostgreSQL\"],\n",
    "  \"past_job_titles\": [\"Platform Engineer\", \"Backend Developer\"],\n",
    "  \"education\": \"MSc in Software Engineering\",\n",
    "  \"soft_skills\": [\"teamplayer\", \"problem solver\"]\n",
    "}}\n",
    "\n",
    "Resume:\n",
    "{resume_text}\n",
    "\n",
    "Respond only with valid JSON. Do not include any extra text or explanation.\n",
    "\"\"\"\n",
    "\n",
    "    response = client.chat(\n",
    "        model=model,\n",
    "        messages=[{\"role\": \"user\", \"content\": prompt}]\n",
    "    )\n",
    "\n",
    "    return response['message']['content']\n"
   ]
  },
  {
   "cell_type": "code",
   "execution_count": 22,
   "id": "ccd40755",
   "metadata": {},
   "outputs": [
    {
     "name": "stdout",
     "output_type": "stream",
     "text": [
      "[\n",
      "{\n",
      "   \"name\": \"Emma Liu\",\n",
      "   \"years_of_experiencce\": 3,\n",
      "   \"skills\": [\"Go\", \"Kubernetes\", \"PostgreSQL\"],\n",
      "   \"past_job_title\": [\"Platform Engineer\", \"Backend Developer\"],\n",
      "   \"eduation\": \"MSc in Software Engineering\",\n",
      "   \"soft_skills\": [\"Teamplayer\", \"Problem Solver\"]\n",
      "}]\n"
     ]
    }
   ],
   "source": [
    "json_output = extract_resume_info(resume_clean, model='tinyllama')\n",
    "print(json_output)"
   ]
  },
  {
   "cell_type": "code",
   "execution_count": 23,
   "id": "fd40f74a",
   "metadata": {},
   "outputs": [],
   "source": [
    "def extract_job_description_info(jd_text: str, model: str = 'mistral') -> dict:\n",
    "    from ollama import Client\n",
    "    client = Client()\n",
    "\n",
    "    prompt = f\"\"\"\n",
    "Extract the following fields from the job description and return them as a valid JSON object:\n",
    "\n",
    "- title\n",
    "- required_experience\n",
    "- required_skills\n",
    "- preferred_skills\n",
    "- education\n",
    "- soft_skills\n",
    "\n",
    "Example output:\n",
    "{{\n",
    "  \"title\": \"Backend Engineer\",\n",
    "  \"required_experience\": 2,\n",
    "  \"required_skills\": [\"Python\", \"AWS\", \"PostgreSQL\"],\n",
    "  \"preferred_skills\": [\"Kubernetes\", \"Docker\"],\n",
    "  \"education\": \"Bachelor's in Computer Science\",\n",
    "  \"soft_skills\": [\"communication\", \"problem-solving\"]\n",
    "}}\n",
    "\n",
    "Job Description:\n",
    "{jd_text}\n",
    "\n",
    "Respond only with valid JSON. Do not include any additional explanation or formatting.\n",
    "\"\"\"\n",
    "\n",
    "    response = client.chat(\n",
    "        model=model,\n",
    "        messages=[{\"role\": \"user\", \"content\": prompt}]\n",
    "    )\n",
    "\n",
    "    return response['message']['content']\n"
   ]
  },
  {
   "cell_type": "code",
   "execution_count": 24,
   "id": "c6bb6590",
   "metadata": {},
   "outputs": [
    {
     "name": "stdout",
     "output_type": "stream",
     "text": [
      " {\n",
      "      \"title\": \"Software Engineer\",\n",
      "      \"required_experience\": 2,\n",
      "      \"required_skills\": [\"TypeScript\", \"Python\"],\n",
      "      \"preferred_skills\": [],\n",
      "      \"education\": \"Bachelor's or Master's degree in Computer Science, Mathematics, or related fields\",\n",
      "      \"soft_skills\": [\"curious mind\", \"empathic style\"]\n",
      "   }\n"
     ]
    }
   ],
   "source": [
    "json_output_job = extract_job_description_info(job_clean)\n",
    "print(json_output_job)"
   ]
  },
  {
   "cell_type": "code",
   "execution_count": 25,
   "id": "ed4b71a4",
   "metadata": {},
   "outputs": [],
   "source": [
    "resume_data = extract_resume_info(resume_clean)\n",
    "job_data = extract_job_description_info(job_clean)"
   ]
  },
  {
   "cell_type": "code",
   "execution_count": 26,
   "id": "d36b145d",
   "metadata": {},
   "outputs": [
    {
     "name": "stdout",
     "output_type": "stream",
     "text": [
      "🔍 Resume matches 50.00% of required job skills.\n"
     ]
    }
   ],
   "source": [
    "import json\n",
    "\n",
    "resume = json.loads(resume_data)\n",
    "job = json.loads(job_data)\n",
    "\n",
    "# Compare skills\n",
    "common_skills = set(resume[\"skills\"]).intersection(job[\"required_skills\"])\n",
    "match_score = len(common_skills) / len(job[\"required_skills\"]) * 100\n",
    "\n",
    "print(f\"🔍 Resume matches {match_score:.2f}% of required job skills.\")"
   ]
  },
  {
   "cell_type": "code",
   "execution_count": 27,
   "id": "b9247797",
   "metadata": {},
   "outputs": [],
   "source": [
    "from sentence_transformers import SentenceTransformer\n",
    "model = SentenceTransformer('models/all-MiniLM-L6-v2')  "
   ]
  },
  {
   "cell_type": "code",
   "execution_count": 28,
   "id": "20f177fc",
   "metadata": {},
   "outputs": [],
   "source": [
    "from sentence_transformers import util\n",
    "\n",
    "def compare_resume_and_job(resume: dict, job: dict, model, explain: bool = False) -> float:\n",
    "    def sim(a, b):\n",
    "        return util.cos_sim(model.encode(a, convert_to_tensor=True),\n",
    "                            model.encode(b, convert_to_tensor=True)).item()\n",
    "\n",
    "    def sim_list(list1, list2, threshold=0.7):\n",
    "        matches = []\n",
    "        for item1 in list1:\n",
    "            for item2 in list2:\n",
    "                if sim(item1, item2) >= threshold:\n",
    "                    matches.append((item1, item2))\n",
    "        return matches\n",
    "\n",
    "    # --- 1. Skills ---\n",
    "    resume_skills = resume.get(\"skills\", [])\n",
    "    required_skills = job.get(\"required_skills\", [])\n",
    "    preferred_skills = job.get(\"preferred_skills\", [])\n",
    "\n",
    "    required_matches = sim_list(resume_skills, required_skills)\n",
    "    preferred_matches = sim_list(resume_skills, preferred_skills)\n",
    "\n",
    "    required_score = len(required_matches) / max(1, len(required_skills))\n",
    "    preferred_score = len(preferred_matches) / max(1, len(preferred_skills))\n",
    "    skill_score = (required_score * 0.8) + (preferred_score * 0.2)\n",
    "\n",
    "    # --- 2. Experience (rule-based) ---\n",
    "    resume_exp = resume.get(\"years_of_experience\", 0)\n",
    "    job_exp = job.get(\"required_experience\", 0)\n",
    "\n",
    "    if isinstance(resume_exp, str):\n",
    "        resume_exp = int(''.join(filter(str.isdigit, resume_exp)) or 0)\n",
    "\n",
    "    exp_score = 1.0 if resume_exp >= job_exp else 0.5 if resume_exp >= job_exp * 0.75 else 0.0\n",
    "\n",
    "    # --- 3. Job Title (semantic similarity) ---\n",
    "    resume_titles = resume.get(\"past_job_titles\", [])\n",
    "    job_title = job.get(\"title\", \"\")\n",
    "    title_score = 0.0\n",
    "\n",
    "    for rt in resume_titles:\n",
    "        if sim(rt, job_title) > 0.75:\n",
    "            title_score = 1.0\n",
    "            break\n",
    "\n",
    "    # --- 4. Education (semantic match) ---\n",
    "    import re\n",
    "\n",
    "    def simplify_education(text):\n",
    "        text = text.lower()\n",
    "        text = re.sub(r\"bachelor(?:'s)?|bsc\", \"bachelor\", text)\n",
    "        text = re.sub(r\"master(?:'s)?|msc\", \"master\", text)\n",
    "        text = re.sub(r\"(in|of)\", \"\", text)\n",
    "        text = re.sub(r\"[,\\.]\", \"\", text)\n",
    "        # remove university names, keep degree + subject\n",
    "        keywords = [\"bachelor\", \"master\", \"computer science\", \"mathematics\", \"data science\", \"engineering\"]\n",
    "        return ' '.join([kw for kw in keywords if kw in text])\n",
    "\n",
    "    resume_edu_clean = simplify_education(resume.get(\"education\", \"\"))\n",
    "    job_edu_clean = simplify_education(job.get(\"education\", \"\"))\n",
    "\n",
    "    edu_score = sim(resume_edu_clean, job_edu_clean) if resume_edu_clean and job_edu_clean else 0.0\n",
    "    edu_score = 1.0 if edu_score > 0.7 else 0.0\n",
    "\n",
    "    # --- 5. Final Weighted Score ---\n",
    "    final_score = (\n",
    "        skill_score * 0.5 +\n",
    "        exp_score * 0.2 +\n",
    "        title_score * 0.2 +\n",
    "        edu_score * 0.1\n",
    "    )\n",
    "\n",
    "    percent_score = round(final_score * 100, 2)\n",
    "\n",
    "    if explain:\n",
    "        print(\"📊 Match Breakdown:\")\n",
    "        print(f\"✔️ Required skills matched: {[m[1] for m in required_matches]}\")\n",
    "        print(f\"➕ Preferred skills matched: {[m[1] for m in preferred_matches]}\")\n",
    "        print(f\"🛠️ Skill score: {round(skill_score * 100, 2)}%\")\n",
    "        print(f\"📈 Experience score: {round(exp_score * 100, 2)}%\")\n",
    "        print(f\"🎯 Title score: {round(title_score * 100, 2)}%\")\n",
    "        print(f\"🎓 Education score: {round(edu_score * 100, 2)}%\")\n",
    "\n",
    "    return percent_score\n"
   ]
  },
  {
   "cell_type": "code",
   "execution_count": 29,
   "id": "90898391",
   "metadata": {},
   "outputs": [
    {
     "name": "stdout",
     "output_type": "stream",
     "text": [
      "📊 Match Breakdown:\n",
      "✔️ Required skills matched: ['Typescript']\n",
      "➕ Preferred skills matched: []\n",
      "🛠️ Skill score: 40.0%\n",
      "📈 Experience score: 100.0%\n",
      "🎯 Title score: 100.0%\n",
      "🎓 Education score: 100.0%\n",
      "\n",
      "🔍 Final Resume Fit Score: 70.0%\n"
     ]
    }
   ],
   "source": [
    "import json\n",
    "\n",
    "\n",
    "resume_raw = extract_resume_info(resume_clean)\n",
    "job_raw = extract_job_description_info(job_clean)\n",
    "\n",
    "resume_dict = json.loads(resume_raw)\n",
    "job_dict = json.loads(job_raw)\n",
    "\n",
    "\n",
    "model = SentenceTransformer('models/all-MiniLM-L6-v2')  # or just use HuggingFace name\n",
    "score = compare_resume_and_job(resume_dict, job_dict, model, True)\n",
    "\n",
    "print(f\"\\n🔍 Final Resume Fit Score: {score}%\")\n"
   ]
  },
  {
   "cell_type": "code",
   "execution_count": null,
   "id": "58d41952",
   "metadata": {},
   "outputs": [],
   "source": []
  }
 ],
 "metadata": {
  "kernelspec": {
   "display_name": "Python 3",
   "language": "python",
   "name": "python3"
  },
  "language_info": {
   "codemirror_mode": {
    "name": "ipython",
    "version": 3
   },
   "file_extension": ".py",
   "mimetype": "text/x-python",
   "name": "python",
   "nbconvert_exporter": "python",
   "pygments_lexer": "ipython3",
   "version": "3.11.11"
  }
 },
 "nbformat": 4,
 "nbformat_minor": 5
}
