{
 "cells": [
  {
   "cell_type": "markdown",
   "id": "7fed0821",
   "metadata": {},
   "source": [
    "Downloading the sentence comparison model from huggingface (only done once by Petar - it will be saved and accessable through Git from now on)"
   ]
  },
  {
   "cell_type": "code",
   "execution_count": 1,
   "id": "4f26069b",
   "metadata": {},
   "outputs": [
    {
     "name": "stderr",
     "output_type": "stream",
     "text": [
      "c:\\Users\\pemla\\anaconda3\\envs\\resume-matcher\\Lib\\site-packages\\huggingface_hub\\file_download.py:933: UserWarning: `local_dir_use_symlinks` parameter is deprecated and will be ignored. The process to download files to a local folder has been updated and do not rely on symlinks anymore. You only need to pass a destination folder as`local_dir`.\n",
      "For more details, check out https://huggingface.co/docs/huggingface_hub/main/en/guides/download#download-files-to-local-folder.\n",
      "  warnings.warn(\n"
     ]
    },
    {
     "data": {
      "application/vnd.jupyter.widget-view+json": {
       "model_id": "90065450191643bfafcf92a6e4003661",
       "version_major": 2,
       "version_minor": 0
      },
      "text/plain": [
       "Fetching 30 files:   0%|          | 0/30 [00:00<?, ?it/s]"
      ]
     },
     "metadata": {},
     "output_type": "display_data"
    },
    {
     "name": "stderr",
     "output_type": "stream",
     "text": [
      "Xet Storage is enabled for this repo, but the 'hf_xet' package is not installed. Falling back to regular HTTP download. For better performance, install the package with: `pip install huggingface_hub[hf_xet]` or `pip install hf_xet`\n"
     ]
    },
    {
     "data": {
      "application/vnd.jupyter.widget-view+json": {
       "model_id": "52fbe5ebeef14bc895aa002080b86138",
       "version_major": 2,
       "version_minor": 0
      },
      "text/plain": [
       "modules.json:   0%|          | 0.00/349 [00:00<?, ?B/s]"
      ]
     },
     "metadata": {},
     "output_type": "display_data"
    },
    {
     "data": {
      "application/vnd.jupyter.widget-view+json": {
       "model_id": "9b8b11cd81d04d48a89b6e00d376b149",
       "version_major": 2,
       "version_minor": 0
      },
      "text/plain": [
       "config.json:   0%|          | 0.00/612 [00:00<?, ?B/s]"
      ]
     },
     "metadata": {},
     "output_type": "display_data"
    },
    {
     "data": {
      "application/vnd.jupyter.widget-view+json": {
       "model_id": "ee71518ff378479d986e30731e5f81ef",
       "version_major": 2,
       "version_minor": 0
      },
      "text/plain": [
       "config_sentence_transformers.json:   0%|          | 0.00/116 [00:00<?, ?B/s]"
      ]
     },
     "metadata": {},
     "output_type": "display_data"
    },
    {
     "data": {
      "application/vnd.jupyter.widget-view+json": {
       "model_id": "b5b25dfc8cb942a088146d68a1ef12d9",
       "version_major": 2,
       "version_minor": 0
      },
      "text/plain": [
       "config.json:   0%|          | 0.00/190 [00:00<?, ?B/s]"
      ]
     },
     "metadata": {},
     "output_type": "display_data"
    },
    {
     "data": {
      "application/vnd.jupyter.widget-view+json": {
       "model_id": "8e2fc237391a4adbb7e4e03f5248370d",
       "version_major": 2,
       "version_minor": 0
      },
      "text/plain": [
       ".gitattributes:   0%|          | 0.00/1.23k [00:00<?, ?B/s]"
      ]
     },
     "metadata": {},
     "output_type": "display_data"
    },
    {
     "data": {
      "application/vnd.jupyter.widget-view+json": {
       "model_id": "accb7fb887c44c49b07138aba3a7472e",
       "version_major": 2,
       "version_minor": 0
      },
      "text/plain": [
       "README.md:   0%|          | 0.00/10.5k [00:00<?, ?B/s]"
      ]
     },
     "metadata": {},
     "output_type": "display_data"
    },
    {
     "data": {
      "application/vnd.jupyter.widget-view+json": {
       "model_id": "40eef78158cc459e81e90d55d8f96486",
       "version_major": 2,
       "version_minor": 0
      },
      "text/plain": [
       "data_config.json:   0%|          | 0.00/39.3k [00:00<?, ?B/s]"
      ]
     },
     "metadata": {},
     "output_type": "display_data"
    },
    {
     "name": "stderr",
     "output_type": "stream",
     "text": [
      "Xet Storage is enabled for this repo, but the 'hf_xet' package is not installed. Falling back to regular HTTP download. For better performance, install the package with: `pip install huggingface_hub[hf_xet]` or `pip install hf_xet`\n",
      "Xet Storage is enabled for this repo, but the 'hf_xet' package is not installed. Falling back to regular HTTP download. For better performance, install the package with: `pip install huggingface_hub[hf_xet]` or `pip install hf_xet`\n",
      "Xet Storage is enabled for this repo, but the 'hf_xet' package is not installed. Falling back to regular HTTP download. For better performance, install the package with: `pip install huggingface_hub[hf_xet]` or `pip install hf_xet`\n",
      "Xet Storage is enabled for this repo, but the 'hf_xet' package is not installed. Falling back to regular HTTP download. For better performance, install the package with: `pip install huggingface_hub[hf_xet]` or `pip install hf_xet`\n",
      "Xet Storage is enabled for this repo, but the 'hf_xet' package is not installed. Falling back to regular HTTP download. For better performance, install the package with: `pip install huggingface_hub[hf_xet]` or `pip install hf_xet`\n",
      "Xet Storage is enabled for this repo, but the 'hf_xet' package is not installed. Falling back to regular HTTP download. For better performance, install the package with: `pip install huggingface_hub[hf_xet]` or `pip install hf_xet`\n",
      "Xet Storage is enabled for this repo, but the 'hf_xet' package is not installed. Falling back to regular HTTP download. For better performance, install the package with: `pip install huggingface_hub[hf_xet]` or `pip install hf_xet`\n"
     ]
    },
    {
     "data": {
      "application/vnd.jupyter.widget-view+json": {
       "model_id": "a7fecacb17594f64a5fefb1d86367166",
       "version_major": 2,
       "version_minor": 0
      },
      "text/plain": [
       "model.safetensors:   0%|          | 0.00/90.9M [00:00<?, ?B/s]"
      ]
     },
     "metadata": {},
     "output_type": "display_data"
    },
    {
     "data": {
      "application/vnd.jupyter.widget-view+json": {
       "model_id": "17bb8556e4f54ecb9e1257c5a996cca7",
       "version_major": 2,
       "version_minor": 0
      },
      "text/plain": [
       "model_O1.onnx:   0%|          | 0.00/90.4M [00:00<?, ?B/s]"
      ]
     },
     "metadata": {},
     "output_type": "display_data"
    },
    {
     "data": {
      "application/vnd.jupyter.widget-view+json": {
       "model_id": "f7672e6cebe84fb6952747b45407a8ab",
       "version_major": 2,
       "version_minor": 0
      },
      "text/plain": [
       "model.onnx:   0%|          | 0.00/90.4M [00:00<?, ?B/s]"
      ]
     },
     "metadata": {},
     "output_type": "display_data"
    },
    {
     "data": {
      "application/vnd.jupyter.widget-view+json": {
       "model_id": "0335bc7953e446ba9c9a9db77f68e53b",
       "version_major": 2,
       "version_minor": 0
      },
      "text/plain": [
       "model_O2.onnx:   0%|          | 0.00/90.3M [00:00<?, ?B/s]"
      ]
     },
     "metadata": {},
     "output_type": "display_data"
    },
    {
     "data": {
      "application/vnd.jupyter.widget-view+json": {
       "model_id": "23aaa249b576435a82e49d23ee0ded2b",
       "version_major": 2,
       "version_minor": 0
      },
      "text/plain": [
       "model_qint8_arm64.onnx:   0%|          | 0.00/23.0M [00:00<?, ?B/s]"
      ]
     },
     "metadata": {},
     "output_type": "display_data"
    },
    {
     "data": {
      "application/vnd.jupyter.widget-view+json": {
       "model_id": "571c757ea669462ba3900ea7f1defb2e",
       "version_major": 2,
       "version_minor": 0
      },
      "text/plain": [
       "model_O3.onnx:   0%|          | 0.00/90.3M [00:00<?, ?B/s]"
      ]
     },
     "metadata": {},
     "output_type": "display_data"
    },
    {
     "data": {
      "application/vnd.jupyter.widget-view+json": {
       "model_id": "4d447894de134fc894a3c259bcabb868",
       "version_major": 2,
       "version_minor": 0
      },
      "text/plain": [
       "model_O4.onnx:   0%|          | 0.00/45.2M [00:00<?, ?B/s]"
      ]
     },
     "metadata": {},
     "output_type": "display_data"
    },
    {
     "data": {
      "application/vnd.jupyter.widget-view+json": {
       "model_id": "46edbd3f2d04477999bdfca25ca911ca",
       "version_major": 2,
       "version_minor": 0
      },
      "text/plain": [
       "model_qint8_arm64.onnx:   0%|          | 0.00/23.0M [00:00<?, ?B/s]"
      ]
     },
     "metadata": {},
     "output_type": "display_data"
    },
    {
     "name": "stderr",
     "output_type": "stream",
     "text": [
      "Xet Storage is enabled for this repo, but the 'hf_xet' package is not installed. Falling back to regular HTTP download. For better performance, install the package with: `pip install huggingface_hub[hf_xet]` or `pip install hf_xet`\n"
     ]
    },
    {
     "data": {
      "application/vnd.jupyter.widget-view+json": {
       "model_id": "0cc1126b1462450ba99a37206c647b92",
       "version_major": 2,
       "version_minor": 0
      },
      "text/plain": [
       "model_qint8_arm64.onnx:   0%|          | 0.00/23.0M [00:00<?, ?B/s]"
      ]
     },
     "metadata": {},
     "output_type": "display_data"
    },
    {
     "name": "stderr",
     "output_type": "stream",
     "text": [
      "Xet Storage is enabled for this repo, but the 'hf_xet' package is not installed. Falling back to regular HTTP download. For better performance, install the package with: `pip install huggingface_hub[hf_xet]` or `pip install hf_xet`\n"
     ]
    },
    {
     "data": {
      "application/vnd.jupyter.widget-view+json": {
       "model_id": "3f27cba77d614ea3b78cef56e014ab40",
       "version_major": 2,
       "version_minor": 0
      },
      "text/plain": [
       "model_quint8_avx2.onnx:   0%|          | 0.00/23.0M [00:00<?, ?B/s]"
      ]
     },
     "metadata": {},
     "output_type": "display_data"
    },
    {
     "name": "stderr",
     "output_type": "stream",
     "text": [
      "Xet Storage is enabled for this repo, but the 'hf_xet' package is not installed. Falling back to regular HTTP download. For better performance, install the package with: `pip install huggingface_hub[hf_xet]` or `pip install hf_xet`\n"
     ]
    },
    {
     "data": {
      "application/vnd.jupyter.widget-view+json": {
       "model_id": "092837e1334b41a3922f109a9d6e0772",
       "version_major": 2,
       "version_minor": 0
      },
      "text/plain": [
       "openvino_model.bin:   0%|          | 0.00/90.3M [00:00<?, ?B/s]"
      ]
     },
     "metadata": {},
     "output_type": "display_data"
    },
    {
     "data": {
      "application/vnd.jupyter.widget-view+json": {
       "model_id": "283f37a63124472eb82e9388e18875a4",
       "version_major": 2,
       "version_minor": 0
      },
      "text/plain": [
       "openvino_model.xml:   0%|          | 0.00/211k [00:00<?, ?B/s]"
      ]
     },
     "metadata": {},
     "output_type": "display_data"
    },
    {
     "name": "stderr",
     "output_type": "stream",
     "text": [
      "Xet Storage is enabled for this repo, but the 'hf_xet' package is not installed. Falling back to regular HTTP download. For better performance, install the package with: `pip install huggingface_hub[hf_xet]` or `pip install hf_xet`\n"
     ]
    },
    {
     "data": {
      "application/vnd.jupyter.widget-view+json": {
       "model_id": "6f1311aad0c845c6b013179bfb192cb2",
       "version_major": 2,
       "version_minor": 0
      },
      "text/plain": [
       "openvino_model_qint8_quantized.bin:   0%|          | 0.00/22.9M [00:00<?, ?B/s]"
      ]
     },
     "metadata": {},
     "output_type": "display_data"
    },
    {
     "data": {
      "application/vnd.jupyter.widget-view+json": {
       "model_id": "2bc0631ec2104e9dba829bb5fec0abec",
       "version_major": 2,
       "version_minor": 0
      },
      "text/plain": [
       "openvino_model_qint8_quantized.xml:   0%|          | 0.00/368k [00:00<?, ?B/s]"
      ]
     },
     "metadata": {},
     "output_type": "display_data"
    },
    {
     "name": "stderr",
     "output_type": "stream",
     "text": [
      "Xet Storage is enabled for this repo, but the 'hf_xet' package is not installed. Falling back to regular HTTP download. For better performance, install the package with: `pip install huggingface_hub[hf_xet]` or `pip install hf_xet`\n"
     ]
    },
    {
     "data": {
      "application/vnd.jupyter.widget-view+json": {
       "model_id": "e550ed46078f49efa3b4d612829d00c1",
       "version_major": 2,
       "version_minor": 0
      },
      "text/plain": [
       "pytorch_model.bin:   0%|          | 0.00/90.9M [00:00<?, ?B/s]"
      ]
     },
     "metadata": {},
     "output_type": "display_data"
    },
    {
     "name": "stderr",
     "output_type": "stream",
     "text": [
      "Xet Storage is enabled for this repo, but the 'hf_xet' package is not installed. Falling back to regular HTTP download. For better performance, install the package with: `pip install huggingface_hub[hf_xet]` or `pip install hf_xet`\n"
     ]
    },
    {
     "data": {
      "application/vnd.jupyter.widget-view+json": {
       "model_id": "217f5e96f51a4004b939159d9c8028a7",
       "version_major": 2,
       "version_minor": 0
      },
      "text/plain": [
       "rust_model.ot:   0%|          | 0.00/90.9M [00:00<?, ?B/s]"
      ]
     },
     "metadata": {},
     "output_type": "display_data"
    },
    {
     "data": {
      "application/vnd.jupyter.widget-view+json": {
       "model_id": "4efea5ebd7f8455daa71e76fdbd430c8",
       "version_major": 2,
       "version_minor": 0
      },
      "text/plain": [
       "sentence_bert_config.json:   0%|          | 0.00/53.0 [00:00<?, ?B/s]"
      ]
     },
     "metadata": {},
     "output_type": "display_data"
    },
    {
     "data": {
      "application/vnd.jupyter.widget-view+json": {
       "model_id": "150dd137ca7448b6bb066ed58e2e5f0f",
       "version_major": 2,
       "version_minor": 0
      },
      "text/plain": [
       "special_tokens_map.json:   0%|          | 0.00/112 [00:00<?, ?B/s]"
      ]
     },
     "metadata": {},
     "output_type": "display_data"
    },
    {
     "name": "stderr",
     "output_type": "stream",
     "text": [
      "Xet Storage is enabled for this repo, but the 'hf_xet' package is not installed. Falling back to regular HTTP download. For better performance, install the package with: `pip install huggingface_hub[hf_xet]` or `pip install hf_xet`\n"
     ]
    },
    {
     "data": {
      "application/vnd.jupyter.widget-view+json": {
       "model_id": "cd72157c50594a268c6cb4b339e6b97d",
       "version_major": 2,
       "version_minor": 0
      },
      "text/plain": [
       "tf_model.h5:   0%|          | 0.00/91.0M [00:00<?, ?B/s]"
      ]
     },
     "metadata": {},
     "output_type": "display_data"
    },
    {
     "data": {
      "application/vnd.jupyter.widget-view+json": {
       "model_id": "1c1ff2ffa1534ca082e36a44c92e0a2b",
       "version_major": 2,
       "version_minor": 0
      },
      "text/plain": [
       "tokenizer.json:   0%|          | 0.00/466k [00:00<?, ?B/s]"
      ]
     },
     "metadata": {},
     "output_type": "display_data"
    },
    {
     "data": {
      "application/vnd.jupyter.widget-view+json": {
       "model_id": "a56f753d83aa4e5dbf61af45801f0350",
       "version_major": 2,
       "version_minor": 0
      },
      "text/plain": [
       "tokenizer_config.json:   0%|          | 0.00/350 [00:00<?, ?B/s]"
      ]
     },
     "metadata": {},
     "output_type": "display_data"
    },
    {
     "data": {
      "application/vnd.jupyter.widget-view+json": {
       "model_id": "30a0c967c62f4e78b71465be47d60c49",
       "version_major": 2,
       "version_minor": 0
      },
      "text/plain": [
       "train_script.py:   0%|          | 0.00/13.2k [00:00<?, ?B/s]"
      ]
     },
     "metadata": {},
     "output_type": "display_data"
    },
    {
     "data": {
      "application/vnd.jupyter.widget-view+json": {
       "model_id": "01436933bf05434d9bfd3f408666f30c",
       "version_major": 2,
       "version_minor": 0
      },
      "text/plain": [
       "vocab.txt:   0%|          | 0.00/232k [00:00<?, ?B/s]"
      ]
     },
     "metadata": {},
     "output_type": "display_data"
    },
    {
     "data": {
      "text/plain": [
       "'C:\\\\Schule\\\\Master\\\\Semester 2\\\\TSM_MachLeData\\\\project\\\\TSM_MLOps\\\\resume_matcher\\\\notebooks\\\\models\\\\all-MiniLM-L6-v2'"
      ]
     },
     "execution_count": 1,
     "metadata": {},
     "output_type": "execute_result"
    }
   ],
   "source": [
    "from huggingface_hub import snapshot_download\n",
    "\n",
    "# Download the model and store it in the models directory\n",
    "snapshot_download(\n",
    "    repo_id=\"sentence-transformers/all-MiniLM-L6-v2\",\n",
    "    local_dir=\"models/all-MiniLM-L6-v2\",\n",
    "    local_dir_use_symlinks=False  # This ensures full files are copied, not symlinked\n",
    ")\n"
   ]
  },
  {
   "cell_type": "markdown",
   "id": "96330fd5",
   "metadata": {},
   "source": [
    "Load the model to use it - you run this cell before you want to use the model"
   ]
  },
  {
   "cell_type": "code",
   "execution_count": 1,
   "id": "cc515a9e",
   "metadata": {},
   "outputs": [
    {
     "name": "stderr",
     "output_type": "stream",
     "text": [
      "C:\\Users\\robin\\anaconda3\\envs\\resume-matcher\\Lib\\site-packages\\tqdm\\auto.py:21: TqdmWarning: IProgress not found. Please update jupyter and ipywidgets. See https://ipywidgets.readthedocs.io/en/stable/user_install.html\n",
      "  from .autonotebook import tqdm as notebook_tqdm\n"
     ]
    }
   ],
   "source": [
    "\n"
   ]
  },
  {
   "cell_type": "code",
   "execution_count": 3,
   "id": "3748b690",
   "metadata": {},
   "outputs": [
    {
     "name": "stderr",
     "output_type": "stream",
     "text": [
      "CropBox missing from /Page, defaulting to MediaBox\n",
      "CropBox missing from /Page, defaulting to MediaBox\n"
     ]
    },
    {
     "name": "stdout",
     "output_type": "stream",
     "text": [
      "CYNTHIA DWAYNE\n",
      "Software Developer\n",
      "CONTACT WORK EXPERIENCE\n",
      "cynthia@beamjobs.com Software Developer\n",
      "(123) 456-7890\n",
      "QuickBooks\n",
      "Brooklyn, NY\n",
      "January 2017 - current / New York, NY\n",
      "LinkedIn\n",
      "· Worked on the payments team to save time and improve cash\n",
      "Github\n",
      "flow for over 50,000 through the development of modern,\n",
      "responsive customer experiences\n",
      "· Led the migration from AWS to GCP for the team to reduce\n",
      "CAREER OBJECTIVE\n",
      "cloud costs by $260,000 per year\n",
      "Throughout my 7-year-plus · Worked closely with the product team to re-configure the\n",
      "career as a software developer, I processing of invoices, saving customers over 125,000 manual\n",
      "have focused on developing hours of work per month\n",
      "scalable and well-documented · Mentored 3 junior front-end developers on the team on React,\n",
      "code. I enjoy working\n",
      "and documented best practices within the organization\n",
      "collaboratively but can also run\n",
      "with projects independently.\n",
      "Front-End Developer\n",
      "Excited about the prospect of\n",
      "joining a product-driven AMR\n",
      "company like Acme Corp.\n",
      "January 2014 - December 2016 / New York, NY\n",
      "· Contributed to the in-house UI library to create reusable\n",
      "components that saved 125+ hours of development per month\n",
      "EDUCATION\n",
      "· Created a web app MVP for a store delivery management\n",
      "Bachelor of Science platform with 200+ business customers to create, manage, and\n",
      "Computer Science monitor deliveries using React and Redux\n",
      "· Added features to meditation app with 5,000+ monthly users,\n",
      "University of Delaware\n",
      "enabling audio and video uploads using React and Redux\n",
      "August 2008 - May 2012\n",
      "· Improved customer conversion rate by 17% through A/B\n",
      "Newark, DE\n",
      "testing of different components and combinations,\n",
      "representing $500,000+ in incremental annual revenue\n",
      "SKILLS\n",
      "Help Desk Analyst\n",
      "Python (Django)\n",
      "Kelly\n",
      "SQL (PostgreSQL, MySQL)\n",
      "June 2012 - January 2014 / New York, NY\n",
      "Cloud (GCP, AWS)\n",
      "· Diagnosed technical issues for 30+ clients per day by phone,\n",
      "JavaScript (ES6, React, Redux,\n",
      "email, and chat, solving issues within 15 minutes on average\n",
      "Node.js)\n",
      "· Successfully reached solutions for 92% of computer errors, and\n",
      "Typescript\n",
      "escalated more complex tickets to higher tiers to assist clients\n",
      "HTML/ CSS\n",
      "as quickly as possible\n",
      "CI/CD\n",
      "· Created user accounts for 50+ clients per week, and assisted\n",
      "them with setting up and customizing their accounts\n",
      "· Created and updated documentation as needed concerning\n",
      "network, software, and hardware problems\n"
     ]
    }
   ],
   "source": [
    "import pdfplumber\n",
    "\n",
    "def extract_text_from_pdf(pdf_path):\n",
    "    with pdfplumber.open(pdf_path) as pdf:\n",
    "        return \"\\n\".join([page.extract_text() or \"\" for page in pdf.pages])\n",
    "\n",
    "# Load your own resume file here\n",
    "resume_path = \"../data/resumes/sample_resume.pdf\"\n",
    "resume_text = extract_text_from_pdf(resume_path)\n",
    "\n",
    "print(resume_text[:10000])  # Preview the first 1000 characters\n"
   ]
  },
  {
   "cell_type": "code",
   "execution_count": 4,
   "id": "cdc9b3d9",
   "metadata": {},
   "outputs": [],
   "source": [
    "job_description = \"\"\"Minimum qualifications:\n",
    "\n",
    "Bachelor’s degree or equivalent practical experience.\n",
    "1 year of experience with software development in one or more programming languages (e.g., Python, C, C++, Java, JavaScript).\n",
    "1 year of experience with data structures or algorithms.\n",
    "1 year of experience with full stack development, across back-end such as Java, Python, GO, or C++ codebases, and front-end experience including JavaScript or TypeScript, HTML, CSS or equivalent.\n",
    "\n",
    "Preferred qualifications:\n",
    "\n",
    "Experience in Mobile App Development, TypeScript.\n",
    "Ability to learn new languages and toolkits.\n",
    "\n",
    "About The Job\n",
    "\n",
    "Google's software engineers develop the next-generation technologies that change how billions of users connect, explore, and interact with information and one another. Our products need to handle information at massive scale, and extend well beyond web search. We're looking for engineers who bring fresh ideas from all areas, including information retrieval, distributed computing, large-scale system design, networking and data storage, security, artificial intelligence, natural language processing, UI design and mobile; the list goes on and is growing every day. As a software engineer, you will work on a specific project critical to Google’s needs with opportunities to switch teams and projects as you and our fast-paced business grow and evolve. We need our engineers to be versatile, display leadership qualities and be enthusiastic to take on new problems across the full-stack as we continue to push technology forward.\n",
    "\n",
    "At YouTube, we believe that everyone deserves to have a voice, and that the world is a better place when we listen, share, and build community through our stories. We work together to give everyone the power to share their story, explore what they love, and connect with one another in the process. Working at the intersection of cutting-edge technology and boundless creativity, we move at the speed of culture with a shared goal to show people the world. We explore new ideas, solve real problems, and have fun — and we do it all together.\n",
    "\n",
    "Responsibilities\n",
    "\n",
    "Write product or system development code.\n",
    "Work with PMs and UXDs, design, review, implement and launch changes to our products. Drive for pragmatic, robust solutions and product excellence.\n",
    "Help, maintain and improve our infrastructure and platform and, after an onboarding phase, participate in our on-call rotation.\n",
    "\n",
    "\"\"\""
   ]
  },
  {
   "cell_type": "code",
   "execution_count": 5,
   "id": "e4945c90",
   "metadata": {},
   "outputs": [],
   "source": [
    "import re\n",
    "\n",
    "def clean_text(text):\n",
    "    # lowercase the text\n",
    "    text = text.lower()\n",
    "    #remove special characters \n",
    "    text = re.sub(r\"[\\n•\\-]+\", \" \", text)\n",
    "    # Remove extra spaces\n",
    "    text = re.sub(r\"\\s+\", \" \", text).strip()\n",
    "    return text\n"
   ]
  },
  {
   "cell_type": "code",
   "execution_count": 6,
   "id": "9eeef567",
   "metadata": {},
   "outputs": [],
   "source": [
    "resume_clean = clean_text(resume_text)\n",
    "job_clean = clean_text(job_description)\n"
   ]
  },
  {
   "cell_type": "code",
   "execution_count": 8,
   "id": "603c34dd",
   "metadata": {},
   "outputs": [
    {
     "name": "stdout",
     "output_type": "stream",
     "text": [
      "Resume Fit Score: 48.87/100\n"
     ]
    }
   ],
   "source": [
    "from sentence_transformers.util import cos_sim\n",
    "\n",
    "# encode texts to get their embeddings\n",
    "embeddings = model.encode([resume_text, job_description], convert_to_tensor=True)\n",
    "\n",
    "# cosine similarity score\n",
    "similarity = cos_sim(embeddings[0], embeddings[1]).item()\n",
    "print(f\"Resume Fit Score: {similarity * 100:.2f}/100\")\n"
   ]
  },
  {
   "cell_type": "code",
   "execution_count": 9,
   "id": "da57d3c0",
   "metadata": {},
   "outputs": [
    {
     "name": "stdout",
     "output_type": "stream",
     "text": [
      "Keyword Overlap: 16.95%\n"
     ]
    }
   ],
   "source": [
    "# basic keyword overlap\n",
    "resume_words = set(clean_text(resume_text).split())\n",
    "job_words = set(clean_text(job_description).split())\n",
    "overlap = len(resume_words & job_words) / len(job_words)\n",
    "print(f\"Keyword Overlap: {overlap:.2%}\")\n"
   ]
  },
  {
   "cell_type": "code",
   "execution_count": 28,
   "id": "0fc5bcc5",
   "metadata": {},
   "outputs": [
    {
     "name": "stderr",
     "output_type": "stream",
     "text": [
      "Device set to use cpu\n"
     ]
    },
    {
     "name": "stdout",
     "output_type": "stream",
     "text": [
      "🔍 Summarized Job Description:\n",
      "  This is a job description - summarizing in order to fit potential resumes . Google's software engineers develop the next-generation technologies that change how billions of users connect, explore, and interact with information and one another . We're looking for engineers who bring fresh ideas from all areas, including information retrieval, distributed computing, large-scale system design, networking and data storage, security, artificial intelligence, natural language processing, UI design and mobile; the list goes on and is growing every day . As a software engineer, you will work on a specific project critical to Google’s needs with opportunities to switch teams and projects as you and our fast-paced business grow and evolve . At YouTube, we believe that everyone deserves to have a voice, and that the world is a better place when we listen, share, and build community through our stories. We work together to give everyone the power to share their story, explore what they love, and connect with one another in the process. We need our engineers to be versatile, display leadership qualities and be enthusiastic to take on new problems across the full-stack as we continue to push technology forward, and we do it all together. You will work with PMs and UXDs, design, review, implement and launch changes to our products. Drive for pragmatic, robust solutions and product excellence. We move at the speed of culture with a shared goal to show people the world. You can help, maintain and improve our infrastructure and ... and we\n",
      "🔍 Summarized Resume:\n",
      "  This is a resume - summarizing in order to fit potential job descriptions . Worked on the payments team to save time and improve cash . Mentored 3 junior front-end developers on the team on React, code . Led migration from AWS to GCP for the team to reduce cloud costs by $260,000 per year . Enjoyed working with the product team to re-configure the company's product . Contributed to the in-house UI library to create reusable UI library that saved 125+ hours of development per month . Created user accounts for 50+ clients per week, and assisted with setting up and customizing their accounts . Diagnosed technical issues for 30+ clients by phone, and solved issues within 15 minutes on average by phone. Diagnosed . Issues for 30 more clients per day by phone by phone,. Diagnosed Technical issues for . phone, but solved issues for 92% of computer errors. Successfully reached solutions for 92%. Successfully found solutions for 90% of . computer errors, and . solved issues in 15 minutes . The company's helpdesk (Django) and . updated documentation as needed concerning network, software, hardware, and software, and hardware problems . I'm excited about the prospect of joining a product-driven AMR company like Acme Corp. The company’s expertise. The Company’S helpdeskerkerkerkert ‘Criskerker’ and ‘Kerkerkerner’\n"
     ]
    }
   ],
   "source": [
    "from transformers import pipeline\n",
    "\n",
    "summarizer = pipeline(\"summarization\", model=\"sshleifer/distilbart-cnn-12-6\")\n",
    "\n",
    "summary_job_desc = summarizer(\"This is a job description - summarizing in order to fit potential resumes:\" + job_description, max_length=450, min_length=300, do_sample=False)[0]['summary_text']\n",
    "print(\"🔍 Summarized Job Description:\\n\", summary_job_desc)\n",
    "\n",
    "summary_resume_text = summarizer(\"This is a resume - summarizing in order to fit potential job descriptions:\" + resume_text, max_length=450, min_length=300, do_sample=False)[0]['summary_text']\n",
    "print(\"🔍 Summarized Resume:\\n\", summary_resume_text)\n"
   ]
  },
  {
   "cell_type": "code",
   "execution_count": 29,
   "id": "db367c00",
   "metadata": {},
   "outputs": [
    {
     "name": "stdout",
     "output_type": "stream",
     "text": [
      "Summarized Resume Fit Score: 54.45/100\n"
     ]
    }
   ],
   "source": [
    "embeddings = model.encode([summary_resume_text, summary_job_desc], convert_to_tensor=True)\n",
    "\n",
    "# cosine similarity score\n",
    "similarity = cos_sim(embeddings[0], embeddings[1]).item()\n",
    "print(f\"Summarized Resume Fit Score: {similarity * 100:.2f}/100\")"
   ]
  },
  {
   "cell_type": "code",
   "execution_count": null,
   "id": "be04143d",
   "metadata": {},
   "outputs": [
    {
     "data": {
      "application/vnd.jupyter.widget-view+json": {
       "model_id": "01b20406fe4c4a9bb68bfe5493d47b26",
       "version_major": 2,
       "version_minor": 0
      },
      "text/plain": [
       "modules.json:   0%|          | 0.00/229 [00:00<?, ?B/s]"
      ]
     },
     "metadata": {},
     "output_type": "display_data"
    },
    {
     "name": "stderr",
     "output_type": "stream",
     "text": [
      "c:\\Users\\pemla\\anaconda3\\envs\\resume-matcher\\Lib\\site-packages\\huggingface_hub\\file_download.py:144: UserWarning: `huggingface_hub` cache-system uses symlinks by default to efficiently store duplicated files but your machine does not support them in C:\\Users\\pemla\\.cache\\huggingface\\hub\\models--sentence-transformers--msmarco-distilbert-base-v4. Caching files will still work but in a degraded version that might require more space on your disk. This warning can be disabled by setting the `HF_HUB_DISABLE_SYMLINKS_WARNING` environment variable. For more details, see https://huggingface.co/docs/huggingface_hub/how-to-cache#limitations.\n",
      "To support symlinks on Windows, you either need to activate Developer Mode or to run Python as an administrator. In order to activate developer mode, see this article: https://docs.microsoft.com/en-us/windows/apps/get-started/enable-your-device-for-development\n",
      "  warnings.warn(message)\n"
     ]
    },
    {
     "data": {
      "application/vnd.jupyter.widget-view+json": {
       "model_id": "4632a62075494eea8bdac2bc9f9befc9",
       "version_major": 2,
       "version_minor": 0
      },
      "text/plain": [
       "config_sentence_transformers.json:   0%|          | 0.00/122 [00:00<?, ?B/s]"
      ]
     },
     "metadata": {},
     "output_type": "display_data"
    },
    {
     "data": {
      "application/vnd.jupyter.widget-view+json": {
       "model_id": "42c276a986f5422ab3d17ecfbc803e7c",
       "version_major": 2,
       "version_minor": 0
      },
      "text/plain": [
       "README.md:   0%|          | 0.00/3.53k [00:00<?, ?B/s]"
      ]
     },
     "metadata": {},
     "output_type": "display_data"
    },
    {
     "data": {
      "application/vnd.jupyter.widget-view+json": {
       "model_id": "ab23f8c7aa2d4079b1341a175378de2a",
       "version_major": 2,
       "version_minor": 0
      },
      "text/plain": [
       "sentence_bert_config.json:   0%|          | 0.00/53.0 [00:00<?, ?B/s]"
      ]
     },
     "metadata": {},
     "output_type": "display_data"
    },
    {
     "data": {
      "application/vnd.jupyter.widget-view+json": {
       "model_id": "b5c962b14561466dbc51dd4a594b8f72",
       "version_major": 2,
       "version_minor": 0
      },
      "text/plain": [
       "config.json:   0%|          | 0.00/545 [00:00<?, ?B/s]"
      ]
     },
     "metadata": {},
     "output_type": "display_data"
    },
    {
     "name": "stderr",
     "output_type": "stream",
     "text": [
      "Xet Storage is enabled for this repo, but the 'hf_xet' package is not installed. Falling back to regular HTTP download. For better performance, install the package with: `pip install huggingface_hub[hf_xet]` or `pip install hf_xet`\n"
     ]
    },
    {
     "data": {
      "application/vnd.jupyter.widget-view+json": {
       "model_id": "4acb150a2d4940769734984b9d3c6e61",
       "version_major": 2,
       "version_minor": 0
      },
      "text/plain": [
       "model.safetensors:   0%|          | 0.00/265M [00:00<?, ?B/s]"
      ]
     },
     "metadata": {},
     "output_type": "display_data"
    },
    {
     "data": {
      "application/vnd.jupyter.widget-view+json": {
       "model_id": "766c12bb0aa54e078184bacb99faefbe",
       "version_major": 2,
       "version_minor": 0
      },
      "text/plain": [
       "tokenizer_config.json:   0%|          | 0.00/319 [00:00<?, ?B/s]"
      ]
     },
     "metadata": {},
     "output_type": "display_data"
    },
    {
     "data": {
      "application/vnd.jupyter.widget-view+json": {
       "model_id": "5c60b0d0afb74e04b8cc1fe4826d2336",
       "version_major": 2,
       "version_minor": 0
      },
      "text/plain": [
       "vocab.txt:   0%|          | 0.00/232k [00:00<?, ?B/s]"
      ]
     },
     "metadata": {},
     "output_type": "display_data"
    },
    {
     "data": {
      "application/vnd.jupyter.widget-view+json": {
       "model_id": "fed05eed952841739d9a871d433c8113",
       "version_major": 2,
       "version_minor": 0
      },
      "text/plain": [
       "tokenizer.json:   0%|          | 0.00/466k [00:00<?, ?B/s]"
      ]
     },
     "metadata": {},
     "output_type": "display_data"
    },
    {
     "data": {
      "application/vnd.jupyter.widget-view+json": {
       "model_id": "e6c8c63e969f4320adfcf13dd92ad009",
       "version_major": 2,
       "version_minor": 0
      },
      "text/plain": [
       "special_tokens_map.json:   0%|          | 0.00/112 [00:00<?, ?B/s]"
      ]
     },
     "metadata": {},
     "output_type": "display_data"
    },
    {
     "data": {
      "application/vnd.jupyter.widget-view+json": {
       "model_id": "a472dba2a8b848328719f194218a9562",
       "version_major": 2,
       "version_minor": 0
      },
      "text/plain": [
       "config.json:   0%|          | 0.00/190 [00:00<?, ?B/s]"
      ]
     },
     "metadata": {},
     "output_type": "display_data"
    }
   ],
   "source": [
    "model2 = SentenceTransformer(\"sentence-transformers/msmarco-distilbert-base-v4\") #maybe more task specific\n",
    "embeddings2 = model2.encode([resume_clean, job_clean], convert_to_tensor=True)\n",
    "similarity2 = cos_sim(embeddings2[0], embeddings2[1]).item()\n",
    "print(f\"Resume Fit Score (MS MARCO): {similarity2 * 100:.2f}/100\")"
   ]
  },
  {
   "cell_type": "code",
   "execution_count": 31,
   "id": "36880ef8",
   "metadata": {},
   "outputs": [
    {
     "name": "stdout",
     "output_type": "stream",
     "text": [
      "Resume Fit Score (MS MARCO): 36.43/100\n"
     ]
    }
   ],
   "source": [
    "print(f\"Resume Fit Score (MS MARCO): {similarity2 * 100:.2f}/100\")"
   ]
  }
 ],
 "metadata": {
  "kernelspec": {
   "display_name": "Python 3 (ipykernel)",
   "language": "python",
   "name": "python3"
  },
  "language_info": {
   "codemirror_mode": {
    "name": "ipython",
    "version": 3
   },
   "file_extension": ".py",
   "mimetype": "text/x-python",
   "name": "python",
   "nbconvert_exporter": "python",
   "pygments_lexer": "ipython3",
   "version": "3.12.7"
  }
 },
 "nbformat": 4,
 "nbformat_minor": 5
}
